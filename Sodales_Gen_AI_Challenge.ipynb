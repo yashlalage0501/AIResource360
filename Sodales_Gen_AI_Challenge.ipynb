{
 "cells": [
  {
   "cell_type": "code",
   "execution_count": null,
   "metadata": {
    "id": "i4Dg3VaNvzzW"
   },
   "outputs": [],
   "source": [
    "import requests\n",
    "import pandas as pd"
   ]
  },
  {
   "cell_type": "code",
   "execution_count": null,
   "metadata": {
    "colab": {
     "base_uri": "https://localhost:8080/"
    },
    "executionInfo": {
     "elapsed": 10288,
     "status": "ok",
     "timestamp": 1745223127186,
     "user": {
      "displayName": "Om Agrawal",
      "userId": "05481993727437280802"
     },
     "user_tz": -330
    },
    "id": "jMS3wj6VKYYO",
    "outputId": "6292c8a3-1a78-4199-c3f7-be90129f5045"
   },
   "outputs": [],
   "source": [
    "!pip install fastapi[all] pyngrok"
   ]
  },
  {
   "cell_type": "code",
   "execution_count": null,
   "metadata": {
    "executionInfo": {
     "elapsed": 14,
     "status": "ok",
     "timestamp": 1745228378323,
     "user": {
      "displayName": "Om Agrawal",
      "userId": "05481993727437280802"
     },
     "user_tz": -330
    },
    "id": "hOEQVySKv7DR"
   },
   "outputs": [],
   "source": [
    "from fastapi import FastAPI\n",
    "from fastapi.middleware.cors import CORSMiddleware\n",
    "from pydantic import BaseModel\n",
    "\n",
    "app = FastAPI()\n",
    "\n",
    "# Allow CORS for frontend\n",
    "app.add_middleware(\n",
    "    CORSMiddleware,\n",
    "    allow_origins=[\"*\"],\n",
    "    allow_credentials=True,\n",
    "    allow_methods=[\"*\"],\n",
    "    allow_headers=[\"*\"],\n",
    ")\n",
    "\n",
    "\n",
    "# Request Model\n",
    "class AnalyzeRequest(BaseModel):\n",
    "    task: str\n",
    "    employee_data: list\n",
    "\n",
    "#Creating Custom API endpoint\n",
    "@app.post(\"/analyze\")\n",
    "def analyze_task(req: AnalyzeRequest):\n",
    "    df = pd.json_normalize(req.employee_data)\n",
    "    print(df)\n",
    "    # project_df = pd.DataFrame(req.project_data)\n",
    "    reply = build_prompt(req.task, df)\n",
    "    return {\"result\": reply}\n",
    "\n",
    "\n",
    "# Building Custom Prompt\n",
    "def build_prompt(task,df):\n",
    "  # Generated Payload for performance\n",
    "    print(\"Inside build prompt\")\n",
    "    payload_performance = {\n",
    "        \"model\": \"gpt-4.1\",\n",
    "        \"messages\": [\n",
    "          {\n",
    "            \"role\": \"developer\",\n",
    "            \"content\": \"You are a helpful assistant.\"\n",
    "          },\n",
    "          {\n",
    "            \"role\": \"user\",\n",
    "            \"content\": df.to_string(index=False) + \"\\n\"+\"Based on provided data, Show analytics regarding performance for each employee and decribe performance in brief\"\n",
    "          }\n",
    "        ]\n",
    "      }\n",
    "\n",
    "    # Generated Payload for availability\n",
    "    payload_availability = {\n",
    "        \"model\": \"gpt-4.1\",\n",
    "        \"messages\": [\n",
    "          {\n",
    "            \"role\": \"developer\",\n",
    "            \"content\": \"You are a helpful assistant.\"\n",
    "          },\n",
    "          {\n",
    "            \"role\": \"user\",\n",
    "            \"content\": df.to_string(index=False) + \"\\n\"+\"Based on provided data, Show when employees will be free from their tasks\"\n",
    "          }\n",
    "        ]\n",
    "      }\n",
    "\n",
    "    payload_staff_utilization = {\n",
    "        \"model\": \"gpt-4.1\",\n",
    "        \"messages\": [\n",
    "          {\n",
    "            \"role\": \"developer\",\n",
    "            \"content\": \"You are a helpful assistant.\"\n",
    "          },\n",
    "          {\n",
    "            \"role\": \"user\",\n",
    "            \"content\": df.to_string(index=False) + \"\\n\"+\"Based on provided data, Show when employees will be free from their tasks\"\n",
    "          }\n",
    "        ]\n",
    "      }\n",
    "    payload = []\n",
    "    if task == \"performance\":\n",
    "      payload =  payload_performance\n",
    "    elif task == \"availability\":\n",
    "      payload =  payload_availability\n",
    "    elif task == \"staff_utilization\":\n",
    "      payload =  payload_performance\n",
    "\n",
    "    api_url = \"https://api.openai.com/v1/chat/completions\"\n",
    "    api_key =  \"YOUR_API_KEY\"\n",
    "    headers = {\n",
    "    \"Content-Type\": \"application/json\",\n",
    "    \"Authorization\": f\"Bearer {api_key}\"\n",
    "    }\n",
    "    print(\"Before request\")\n",
    "\n",
    "    #Calling OpenAi API\n",
    "    response = requests.post(api_url, headers=headers, json = payload)\n",
    "\n",
    "    result = response.json()['choices'][0]['message']['content']\n",
    "    print(result)\n",
    "    return result\n",
    "\n",
    "\n",
    "\n",
    "\n",
    "\n"
   ]
  },
  {
   "cell_type": "code",
   "execution_count": null,
   "metadata": {
    "colab": {
     "base_uri": "https://localhost:8080/"
    },
    "executionInfo": {
     "elapsed": 1134380,
     "status": "ok",
     "timestamp": 1745228275202,
     "user": {
      "displayName": "Om Agrawal",
      "userId": "05481993727437280802"
     },
     "user_tz": -330
    },
    "id": "FDbMxvpjIZlZ",
    "outputId": "d9995b2d-0136-4d7b-de8c-dca5d2d31786"
   },
   "outputs": [],
   "source": [
    "import nest_asyncio\n",
    "from pyngrok import ngrok\n",
    "import uvicorn\n",
    "\n",
    "# Creating Tunnel to expose custom api as Google colab does not support direct exposure\n",
    "ngrok.kill()\n",
    "ngrok.set_auth_token(\"YOUR_NGROK_AUTH_TOKEN\")\n",
    "ngrok_tunnel = ngrok.connect(8000)\n",
    "print('Public URL:', ngrok_tunnel.public_url)\n",
    "#use this public url in frotend api in frontend/src/pages/ManagerDashboard.jsx\n",
    "nest_asyncio.apply()\n",
    "\n",
    "uvicorn.run(app, port=8000)"
   ]
  }
 ],
 "metadata": {
  "colab": {
   "authorship_tag": "ABX9TyOxqCyrVpPNnNn2TLhyh3tM",
   "provenance": []
  },
  "kernelspec": {
   "display_name": "Python 3",
   "name": "python3"
  },
  "language_info": {
   "name": "python"
  }
 },
 "nbformat": 4,
 "nbformat_minor": 0
}
